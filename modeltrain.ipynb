{
 "cells": [
  {
   "cell_type": "code",
   "execution_count": 2,
   "id": "438b433b",
   "metadata": {},
   "outputs": [],
   "source": [
    "from keras.utils import to_categorical\n",
    "from keras_preprocessing.image import load_img\n",
    "from keras.models import Sequential\n",
    "from keras.layers import Dense, Conv2D, Dropout, Flatten, MaxPooling2D\n",
    "import os\n",
    "import pandas as pd\n",
    "import numpy as np\n",
    "import tensorflow as tf "
   ]
  },
  {
   "cell_type": "code",
   "execution_count": 3,
   "id": "ea47dfa3",
   "metadata": {},
   "outputs": [],
   "source": [
    "TRAIN_DIR = '.\\\\train'\n",
    "TEST_DIR = '.\\\\test'"
   ]
  },
  {
   "cell_type": "code",
   "execution_count": 4,
   "id": "4e5b9a42",
   "metadata": {},
   "outputs": [],
   "source": [
    "def createdataframe(dir):\n",
    "    image_paths = []\n",
    "    labels = []\n",
    "    for label in os.listdir(dir):\n",
    "        for imagename in os.listdir(os.path.join(dir,label)):\n",
    "            image_paths.append(os.path.join(dir,label,imagename))\n",
    "            labels.append(label)\n",
    "        print(label, \"completed\")\n",
    "    return image_paths,labels"
   ]
  },
  {
   "cell_type": "code",
   "execution_count": 5,
   "id": "ab5992a5",
   "metadata": {},
   "outputs": [
    {
     "name": "stdout",
     "output_type": "stream",
     "text": [
      "angry completed\n",
      "disgust completed\n",
      "fear completed\n",
      "happy completed\n",
      "neutral completed\n",
      "sad completed\n",
      "surprise completed\n"
     ]
    }
   ],
   "source": [
    "train = pd.DataFrame()\n",
    "train['image'], train['label'] = createdataframe(TRAIN_DIR)"
   ]
  },
  {
   "cell_type": "code",
   "execution_count": 6,
   "id": "e9bf8ad5",
   "metadata": {},
   "outputs": [
    {
     "name": "stdout",
     "output_type": "stream",
     "text": [
      "                                        image     label\n",
      "0         .\\train\\angry\\Training_10118481.png     angry\n",
      "1         .\\train\\angry\\Training_10120469.png     angry\n",
      "2         .\\train\\angry\\Training_10131352.png     angry\n",
      "3         .\\train\\angry\\Training_10161559.png     angry\n",
      "4          .\\train\\angry\\Training_1021836.png     angry\n",
      "...                                       ...       ...\n",
      "28657  .\\train\\surprise\\Training_99916297.png  surprise\n",
      "28658  .\\train\\surprise\\Training_99924420.png  surprise\n",
      "28659  .\\train\\surprise\\Training_99937001.png  surprise\n",
      "28660  .\\train\\surprise\\Training_99951755.png  surprise\n",
      "28661  .\\train\\surprise\\Training_99984132.png  surprise\n",
      "\n",
      "[28662 rows x 2 columns]\n"
     ]
    }
   ],
   "source": [
    "print(train)"
   ]
  },
  {
   "cell_type": "code",
   "execution_count": 7,
   "id": "b8e4c4c7",
   "metadata": {},
   "outputs": [
    {
     "name": "stdout",
     "output_type": "stream",
     "text": [
      "angry completed\n",
      "disgust completed\n",
      "fear completed\n",
      "happy completed\n",
      "neutral completed\n",
      "sad completed\n",
      "surprise completed\n"
     ]
    }
   ],
   "source": [
    "test = pd.DataFrame()\n",
    "test['image'], test['label'] = createdataframe(TEST_DIR)"
   ]
  },
  {
   "cell_type": "code",
   "execution_count": 8,
   "id": "ee9650ce",
   "metadata": {},
   "outputs": [
    {
     "name": "stdout",
     "output_type": "stream",
     "text": [
      "                                        image     label\n",
      "0       .\\test\\angry\\PrivateTest_10131363.png     angry\n",
      "1       .\\test\\angry\\PrivateTest_10304478.png     angry\n",
      "2        .\\test\\angry\\PrivateTest_1054527.png     angry\n",
      "3       .\\test\\angry\\PrivateTest_10590091.png     angry\n",
      "4        .\\test\\angry\\PrivateTest_1109992.png     angry\n",
      "...                                       ...       ...\n",
      "7166  .\\test\\surprise\\PublicTest_98089595.png  surprise\n",
      "7167  .\\test\\surprise\\PublicTest_98567249.png  surprise\n",
      "7168  .\\test\\surprise\\PublicTest_98972870.png  surprise\n",
      "7169  .\\test\\surprise\\PublicTest_99242645.png  surprise\n",
      "7170  .\\test\\surprise\\PublicTest_99446963.png  surprise\n",
      "\n",
      "[7171 rows x 2 columns]\n",
      "0         .\\test\\angry\\PrivateTest_10131363.png\n",
      "1         .\\test\\angry\\PrivateTest_10304478.png\n",
      "2          .\\test\\angry\\PrivateTest_1054527.png\n",
      "3         .\\test\\angry\\PrivateTest_10590091.png\n",
      "4          .\\test\\angry\\PrivateTest_1109992.png\n",
      "                         ...                   \n",
      "7166    .\\test\\surprise\\PublicTest_98089595.png\n",
      "7167    .\\test\\surprise\\PublicTest_98567249.png\n",
      "7168    .\\test\\surprise\\PublicTest_98972870.png\n",
      "7169    .\\test\\surprise\\PublicTest_99242645.png\n",
      "7170    .\\test\\surprise\\PublicTest_99446963.png\n",
      "Name: image, Length: 7171, dtype: object\n"
     ]
    }
   ],
   "source": [
    "print(test)\n",
    "print(test['image'])"
   ]
  },
  {
   "cell_type": "code",
   "execution_count": 9,
   "id": "06f53620",
   "metadata": {},
   "outputs": [],
   "source": [
    "from tqdm.notebook import tqdm"
   ]
  },
  {
   "cell_type": "code",
   "execution_count": 10,
   "id": "ab0d72d8",
   "metadata": {},
   "outputs": [],
   "source": [
    "def extract_features(images):\n",
    "    features = []\n",
    "    for image in tqdm(images):\n",
    "        img = load_img(image,grayscale =  True )\n",
    "        img = np.array(img)\n",
    "        features.append(img)\n",
    "    features = np.array(features)\n",
    "    features = features.reshape(len(features),48,48,1)\n",
    "    return features\n",
    "    "
   ]
  },
  {
   "cell_type": "code",
   "execution_count": 11,
   "id": "a5453074",
   "metadata": {},
   "outputs": [
    {
     "data": {
      "application/vnd.jupyter.widget-view+json": {
       "model_id": "bf202ed001d94094bce968305e4696e5",
       "version_major": 2,
       "version_minor": 0
      },
      "text/plain": [
       "  0%|          | 0/28662 [00:00<?, ?it/s]"
      ]
     },
     "metadata": {},
     "output_type": "display_data"
    },
    {
     "name": "stderr",
     "output_type": "stream",
     "text": [
      "D:\\Conda\\Lib\\site-packages\\keras_preprocessing\\image\\utils.py:107: UserWarning: grayscale is deprecated. Please use color_mode = \"grayscale\"\n",
      "  warnings.warn('grayscale is deprecated. Please use '\n"
     ]
    }
   ],
   "source": [
    "train_features = extract_features(train['image']) \n",
    "# print(train['image'])"
   ]
  },
  {
   "cell_type": "markdown",
   "id": "45284083",
   "metadata": {},
   "source": [
    "#JPEG to PNG"
   ]
  },
  {
   "cell_type": "code",
   "execution_count": null,
   "id": "b4e0d4b7",
   "metadata": {},
   "outputs": [],
   "source": [
    "# from PIL import Image\n",
    "# import os\n",
    "\n",
    "# # Set the input and output folder paths\n",
    "# input_folder = \"C:\\\\Users\\\\Ramkrishna Ghosh\\\\Desktop\\\\New folder2\"  # Change this to the path of your folder containing JPG images\n",
    "# output_folder = \"C:\\\\Users\\\\Ramkrishna Ghosh\\\\Desktop\\\\New folder (3)\"  # Change this to the path where you want to save the PNG images\n",
    "\n",
    "# # Create the output folder if it doesn't exist\n",
    "# if not os.path.exists(output_folder):\n",
    "#     os.makedirs(output_folder)\n",
    "\n",
    "# # Get a list of all files in the input folder\n",
    "# file_list = os.listdir(input_folder)\n",
    "\n",
    "# # Loop through the files and convert JPG to PNG\n",
    "# for filename in file_list:\n",
    "#     if filename.endswith('.jpeg'):\n",
    "#         # Open the JPG image\n",
    "#         with Image.open(os.path.join(input_folder, filename)) as img:\n",
    "#             # Save the image as PNG in the output folder\n",
    "#             output_filename = os.path.splitext(filename)[0] + '.png'\n",
    "#             img.save(os.path.join(output_folder, output_filename), 'PNG')\n",
    "\n",
    "# print(\"Conversion completed.\")\n"
   ]
  },
  {
   "cell_type": "code",
   "execution_count": 12,
   "id": "c2fa644d",
   "metadata": {},
   "outputs": [
    {
     "data": {
      "application/vnd.jupyter.widget-view+json": {
       "model_id": "f900ecca20b84067b71230d4cbf25316",
       "version_major": 2,
       "version_minor": 0
      },
      "text/plain": [
       "  0%|          | 0/7171 [00:00<?, ?it/s]"
      ]
     },
     "metadata": {},
     "output_type": "display_data"
    }
   ],
   "source": [
    "test_features = extract_features(test['image'])"
   ]
  },
  {
   "cell_type": "code",
   "execution_count": 13,
   "id": "0b9e0db7",
   "metadata": {},
   "outputs": [],
   "source": [
    "x_train = train_features/255.0\n",
    "x_test = test_features/255.0"
   ]
  },
  {
   "cell_type": "code",
   "execution_count": 14,
   "id": "6d821c27",
   "metadata": {},
   "outputs": [],
   "source": [
    "from sklearn.preprocessing import LabelEncoder"
   ]
  },
  {
   "cell_type": "code",
   "execution_count": 15,
   "id": "e6168a44",
   "metadata": {},
   "outputs": [
    {
     "data": {
      "text/html": [
       "<style>#sk-container-id-1 {color: black;background-color: white;}#sk-container-id-1 pre{padding: 0;}#sk-container-id-1 div.sk-toggleable {background-color: white;}#sk-container-id-1 label.sk-toggleable__label {cursor: pointer;display: block;width: 100%;margin-bottom: 0;padding: 0.3em;box-sizing: border-box;text-align: center;}#sk-container-id-1 label.sk-toggleable__label-arrow:before {content: \"▸\";float: left;margin-right: 0.25em;color: #696969;}#sk-container-id-1 label.sk-toggleable__label-arrow:hover:before {color: black;}#sk-container-id-1 div.sk-estimator:hover label.sk-toggleable__label-arrow:before {color: black;}#sk-container-id-1 div.sk-toggleable__content {max-height: 0;max-width: 0;overflow: hidden;text-align: left;background-color: #f0f8ff;}#sk-container-id-1 div.sk-toggleable__content pre {margin: 0.2em;color: black;border-radius: 0.25em;background-color: #f0f8ff;}#sk-container-id-1 input.sk-toggleable__control:checked~div.sk-toggleable__content {max-height: 200px;max-width: 100%;overflow: auto;}#sk-container-id-1 input.sk-toggleable__control:checked~label.sk-toggleable__label-arrow:before {content: \"▾\";}#sk-container-id-1 div.sk-estimator input.sk-toggleable__control:checked~label.sk-toggleable__label {background-color: #d4ebff;}#sk-container-id-1 div.sk-label input.sk-toggleable__control:checked~label.sk-toggleable__label {background-color: #d4ebff;}#sk-container-id-1 input.sk-hidden--visually {border: 0;clip: rect(1px 1px 1px 1px);clip: rect(1px, 1px, 1px, 1px);height: 1px;margin: -1px;overflow: hidden;padding: 0;position: absolute;width: 1px;}#sk-container-id-1 div.sk-estimator {font-family: monospace;background-color: #f0f8ff;border: 1px dotted black;border-radius: 0.25em;box-sizing: border-box;margin-bottom: 0.5em;}#sk-container-id-1 div.sk-estimator:hover {background-color: #d4ebff;}#sk-container-id-1 div.sk-parallel-item::after {content: \"\";width: 100%;border-bottom: 1px solid gray;flex-grow: 1;}#sk-container-id-1 div.sk-label:hover label.sk-toggleable__label {background-color: #d4ebff;}#sk-container-id-1 div.sk-serial::before {content: \"\";position: absolute;border-left: 1px solid gray;box-sizing: border-box;top: 0;bottom: 0;left: 50%;z-index: 0;}#sk-container-id-1 div.sk-serial {display: flex;flex-direction: column;align-items: center;background-color: white;padding-right: 0.2em;padding-left: 0.2em;position: relative;}#sk-container-id-1 div.sk-item {position: relative;z-index: 1;}#sk-container-id-1 div.sk-parallel {display: flex;align-items: stretch;justify-content: center;background-color: white;position: relative;}#sk-container-id-1 div.sk-item::before, #sk-container-id-1 div.sk-parallel-item::before {content: \"\";position: absolute;border-left: 1px solid gray;box-sizing: border-box;top: 0;bottom: 0;left: 50%;z-index: -1;}#sk-container-id-1 div.sk-parallel-item {display: flex;flex-direction: column;z-index: 1;position: relative;background-color: white;}#sk-container-id-1 div.sk-parallel-item:first-child::after {align-self: flex-end;width: 50%;}#sk-container-id-1 div.sk-parallel-item:last-child::after {align-self: flex-start;width: 50%;}#sk-container-id-1 div.sk-parallel-item:only-child::after {width: 0;}#sk-container-id-1 div.sk-dashed-wrapped {border: 1px dashed gray;margin: 0 0.4em 0.5em 0.4em;box-sizing: border-box;padding-bottom: 0.4em;background-color: white;}#sk-container-id-1 div.sk-label label {font-family: monospace;font-weight: bold;display: inline-block;line-height: 1.2em;}#sk-container-id-1 div.sk-label-container {text-align: center;}#sk-container-id-1 div.sk-container {/* jupyter's `normalize.less` sets `[hidden] { display: none; }` but bootstrap.min.css set `[hidden] { display: none !important; }` so we also need the `!important` here to be able to override the default hidden behavior on the sphinx rendered scikit-learn.org. See: https://github.com/scikit-learn/scikit-learn/issues/21755 */display: inline-block !important;position: relative;}#sk-container-id-1 div.sk-text-repr-fallback {display: none;}</style><div id=\"sk-container-id-1\" class=\"sk-top-container\"><div class=\"sk-text-repr-fallback\"><pre>LabelEncoder()</pre><b>In a Jupyter environment, please rerun this cell to show the HTML representation or trust the notebook. <br />On GitHub, the HTML representation is unable to render, please try loading this page with nbviewer.org.</b></div><div class=\"sk-container\" hidden><div class=\"sk-item\"><div class=\"sk-estimator sk-toggleable\"><input class=\"sk-toggleable__control sk-hidden--visually\" id=\"sk-estimator-id-1\" type=\"checkbox\" checked><label for=\"sk-estimator-id-1\" class=\"sk-toggleable__label sk-toggleable__label-arrow\">LabelEncoder</label><div class=\"sk-toggleable__content\"><pre>LabelEncoder()</pre></div></div></div></div></div>"
      ],
      "text/plain": [
       "LabelEncoder()"
      ]
     },
     "execution_count": 15,
     "metadata": {},
     "output_type": "execute_result"
    }
   ],
   "source": [
    "le = LabelEncoder()\n",
    "le.fit(train['label'])"
   ]
  },
  {
   "cell_type": "code",
   "execution_count": 16,
   "id": "0f6e2e1d",
   "metadata": {},
   "outputs": [],
   "source": [
    "y_train = le.transform(train['label'])\n",
    "y_test = le.transform(test['label'])"
   ]
  },
  {
   "cell_type": "code",
   "execution_count": 17,
   "id": "46fad977",
   "metadata": {},
   "outputs": [],
   "source": [
    "y_train = to_categorical(y_train,num_classes = 7)\n",
    "y_test = to_categorical(y_test,num_classes = 7)"
   ]
  },
  {
   "cell_type": "code",
   "execution_count": 18,
   "id": "6751617a",
   "metadata": {},
   "outputs": [],
   "source": [
    "model = Sequential()\n",
    "# convolutional layers\n",
    "model.add(Conv2D(128, kernel_size=(3,3), activation='relu', input_shape=(48,48,1)))\n",
    "model.add(MaxPooling2D(pool_size=(2,2)))\n",
    "model.add(Dropout(0.4))\n",
    "\n",
    "model.add(Conv2D(256, kernel_size=(3,3), activation='relu'))\n",
    "model.add(MaxPooling2D(pool_size=(2,2)))\n",
    "model.add(Dropout(0.4))\n",
    "\n",
    "model.add(Conv2D(512, kernel_size=(3,3), activation='relu'))\n",
    "model.add(MaxPooling2D(pool_size=(2,2)))\n",
    "model.add(Dropout(0.4))\n",
    "\n",
    "model.add(Conv2D(512, kernel_size=(3,3), activation='relu'))\n",
    "model.add(MaxPooling2D(pool_size=(2,2)))\n",
    "model.add(Dropout(0.4))\n",
    "\n",
    "model.add(Flatten())\n",
    "# fully connected layers\n",
    "model.add(Dense(512, activation='relu'))\n",
    "model.add(Dropout(0.4))\n",
    "model.add(Dense(256, activation='relu'))\n",
    "model.add(Dropout(0.3))\n",
    "# output layer\n",
    "model.add(Dense(7, activation='softmax'))\n"
   ]
  },
  {
   "cell_type": "code",
   "execution_count": 22,
   "id": "2f8b20bc",
   "metadata": {},
   "outputs": [],
   "source": [
    "model.compile(optimizer = 'adam', loss = 'categorical_crossentropy', metrics = 'accuracy' )"
   ]
  },
  {
   "cell_type": "code",
   "execution_count": 23,
   "id": "7ae5ec90",
   "metadata": {},
   "outputs": [
    {
     "name": "stdout",
     "output_type": "stream",
     "text": [
      "224/224 [==============================] - 871s 4s/step - loss: 1.8226 - accuracy: 0.2481 - val_loss: 1.8143 - val_accuracy: 0.2472\n"
     ]
    },
    {
     "data": {
      "text/plain": [
       "<keras.callbacks.History at 0x1f3e9917b10>"
      ]
     },
     "execution_count": 23,
     "metadata": {},
     "output_type": "execute_result"
    }
   ],
   "source": [
    "model.fit(x= x_train,y = y_train, batch_size = 128, epochs = 1, validation_data = (x_test,y_test)) "
   ]
  },
  {
   "cell_type": "code",
   "execution_count": 24,
   "id": "b58ae45c",
   "metadata": {},
   "outputs": [],
   "source": [
    "model_json = model.to_json()\n",
    "with open(\".\\\\emotiondetector.json\",'w') as json_file:\n",
    "    json_file.write(model_json)\n",
    "model.save(\".\\\\emotiondetector.h5\")"
   ]
  },
  {
   "cell_type": "code",
   "execution_count": 25,
   "id": "a83317aa",
   "metadata": {},
   "outputs": [],
   "source": [
    "from keras.models import model_from_json"
   ]
  },
  {
   "cell_type": "code",
   "execution_count": 26,
   "id": "d7e9ce27",
   "metadata": {},
   "outputs": [],
   "source": [
    "json_file = open(\".\\\\emotiondetector.json\", \"r\")\n",
    "model_json = json_file.read()\n",
    "json_file.close()\n",
    "model = model_from_json(model_json)\n",
    "model.load_weights(\".\\\\emotiondetector.h5\")"
   ]
  },
  {
   "cell_type": "code",
   "execution_count": 27,
   "id": "c63b777f",
   "metadata": {},
   "outputs": [],
   "source": [
    "label = ['angry','disgust','fear','happy','neutral','sad','surprise']"
   ]
  },
  {
   "cell_type": "code",
   "execution_count": 28,
   "id": "ba84ff01",
   "metadata": {},
   "outputs": [],
   "source": [
    "def ef(image):\n",
    "    img = load_img(image,grayscale =  True )\n",
    "    feature = np.array(img)\n",
    "    feature = feature.reshape(1,48,48,1)\n",
    "    return feature/255.0\n",
    "    "
   ]
  },
  {
   "cell_type": "code",
   "execution_count": 29,
   "id": "4a196575",
   "metadata": {},
   "outputs": [
    {
     "name": "stdout",
     "output_type": "stream",
     "text": [
      "original image is of sad\n"
     ]
    },
    {
     "name": "stderr",
     "output_type": "stream",
     "text": [
      "D:\\Conda\\Lib\\site-packages\\keras_preprocessing\\image\\utils.py:107: UserWarning: grayscale is deprecated. Please use color_mode = \"grayscale\"\n",
      "  warnings.warn('grayscale is deprecated. Please use '\n"
     ]
    },
    {
     "name": "stdout",
     "output_type": "stream",
     "text": [
      "1/1 [==============================] - 0s 231ms/step\n",
      "model prediction is  happy\n"
     ]
    }
   ],
   "source": [
    "image =\".\\\\test\\\\neutral\\\\PrivateTest_932822.png\"\n",
    "print(\"original image is of sad\")\n",
    "img = ef(image)\n",
    "pred = model.predict(img)\n",
    "pred_label = label[pred.argmax()]\n",
    "print(\"model prediction is \",pred_label)"
   ]
  },
  {
   "cell_type": "code",
   "execution_count": 31,
   "id": "83dc444d",
   "metadata": {},
   "outputs": [
    {
     "name": "stdout",
     "output_type": "stream",
     "text": [
      "Epoch 1/10\n",
      "6449/6449 [==============================] - 1233s 191ms/step - loss: 1.6918 - accuracy: 0.2792 - val_loss: 4.3604 - val_accuracy: 0.0000e+00\n",
      "Epoch 2/10\n",
      "6449/6449 [==============================] - 1204s 187ms/step - loss: 1.6908 - accuracy: 0.2793 - val_loss: 4.7151 - val_accuracy: 0.0000e+00\n",
      "Epoch 3/10\n",
      "6449/6449 [==============================] - 1215s 188ms/step - loss: 1.6905 - accuracy: 0.2793 - val_loss: 4.4990 - val_accuracy: 0.0000e+00\n",
      "Epoch 4/10\n",
      "6449/6449 [==============================] - 1436s 223ms/step - loss: 1.6903 - accuracy: 0.2793 - val_loss: 4.2173 - val_accuracy: 0.0000e+00\n",
      "Epoch 5/10\n",
      "6449/6449 [==============================] - 1515s 235ms/step - loss: 1.6907 - accuracy: 0.2793 - val_loss: 4.6136 - val_accuracy: 0.0000e+00\n",
      "Epoch 6/10\n",
      "6449/6449 [==============================] - 1119s 173ms/step - loss: 1.6902 - accuracy: 0.2793 - val_loss: 4.4605 - val_accuracy: 0.0000e+00\n",
      "Epoch 7/10\n",
      "6449/6449 [==============================] - 850s 132ms/step - loss: 1.6905 - accuracy: 0.2793 - val_loss: 4.2244 - val_accuracy: 0.0000e+00\n",
      "Epoch 8/10\n",
      "6449/6449 [==============================] - 866s 134ms/step - loss: 1.6892 - accuracy: 0.2793 - val_loss: 4.3785 - val_accuracy: 0.0000e+00\n",
      "Epoch 9/10\n",
      "6449/6449 [==============================] - 861s 134ms/step - loss: 1.6893 - accuracy: 0.2793 - val_loss: 4.4853 - val_accuracy: 0.0000e+00\n",
      "Epoch 10/10\n",
      "6449/6449 [==============================] - 856s 133ms/step - loss: 1.6897 - accuracy: 0.2793 - val_loss: 4.2275 - val_accuracy: 0.0000e+00\n"
     ]
    },
    {
     "data": {
      "image/png": "[encoded data removed]",
      "text/plain": [
       "<Figure size 640x480 with 1 Axes>"
      ]
     },
     "metadata": {},
     "output_type": "display_data"
    }
   ],
   "source": [
    "import keras\n",
    "from matplotlib import pyplot as plt\n",
    "model.compile(optimizer = 'adam', loss = 'categorical_crossentropy', metrics = 'accuracy' )\n",
    "history = model.fit(x_train, y_train,validation_split = 0.1, epochs=10, batch_size=4)\n",
    "plt.plot(history.history['accuracy'])\n",
    "plt.plot(history.history['val_accuracy'])\n",
    "plt.title('model accuracy')\n",
    "plt.ylabel('accuracy')\n",
    "plt.xlabel('epoch')\n",
    "plt.legend(['train', 'val'], loc='upper left')\n",
    "plt.show()"
   ]
  },
  {
   "cell_type": "code",
   "execution_count": 19,
   "id": "04f7ac31-0204-4343-8531-4382ce043142",
   "metadata": {},
   "outputs": [],
   "source": [
    "model.compile(optimizer='sgd',loss=tf.keras.losses.categorical_crossentropy,metrics=['accuracy'])"
   ]
  },
  {
   "cell_type": "code",
   "execution_count": 23,
   "id": "f8f66f87-862b-4d37-9f93-644a04255e9b",
   "metadata": {},
   "outputs": [
    {
     "name": "stdout",
     "output_type": "stream",
     "text": [
      "Epoch 1/200\n",
      "2867/2867 [==============================] - 861s 300ms/step - loss: 1.7438 - accuracy: 0.2850\n",
      "Epoch 2/200\n",
      "2867/2867 [==============================] - 908s 317ms/step - loss: 1.7071 - accuracy: 0.3137\n",
      "Epoch 3/200\n",
      "2867/2867 [==============================] - 870s 303ms/step - loss: 1.6746 - accuracy: 0.3308\n",
      "Epoch 4/200\n",
      "2867/2867 [==============================] - 846s 295ms/step - loss: 1.6421 - accuracy: 0.3480\n",
      "Epoch 5/200\n",
      "2867/2867 [==============================] - 861s 300ms/step - loss: 1.6042 - accuracy: 0.3676\n",
      "Epoch 6/200\n",
      "2867/2867 [==============================] - 921s 321ms/step - loss: 1.5658 - accuracy: 0.3888\n",
      "Epoch 7/200\n",
      "2867/2867 [==============================] - 1075s 375ms/step - loss: 1.5323 - accuracy: 0.4026\n",
      "Epoch 8/200\n",
      "2867/2867 [==============================] - 1008s 352ms/step - loss: 1.5006 - accuracy: 0.4167\n",
      "Epoch 9/200\n",
      "2867/2867 [==============================] - 946s 330ms/step - loss: 1.4661 - accuracy: 0.4301\n",
      "Epoch 10/200\n",
      "2867/2867 [==============================] - 1112s 388ms/step - loss: 1.4400 - accuracy: 0.4441\n",
      "Epoch 11/200\n",
      "2867/2867 [==============================] - 1055s 368ms/step - loss: 1.4102 - accuracy: 0.4542\n",
      "Epoch 12/200\n",
      "2867/2867 [==============================] - 1015s 354ms/step - loss: 1.3809 - accuracy: 0.4706\n",
      "Epoch 13/200\n",
      "2867/2867 [==============================] - 720s 251ms/step - loss: 1.3551 - accuracy: 0.4807\n",
      "Epoch 14/200\n",
      "2867/2867 [==============================] - 716s 250ms/step - loss: 1.3320 - accuracy: 0.4890\n",
      "Epoch 15/200\n",
      "2867/2867 [==============================] - 703s 245ms/step - loss: 1.3072 - accuracy: 0.4999\n",
      "Epoch 16/200\n",
      "2867/2867 [==============================] - 2487s 868ms/step - loss: 1.2874 - accuracy: 0.5092\n",
      "Epoch 17/200\n",
      "2867/2867 [==============================] - 1058s 369ms/step - loss: 1.2689 - accuracy: 0.5167\n",
      "Epoch 18/200\n",
      "2867/2867 [==============================] - 865s 302ms/step - loss: 1.2541 - accuracy: 0.5267\n",
      "Epoch 19/200\n",
      "2867/2867 [==============================] - 823s 287ms/step - loss: 1.2327 - accuracy: 0.5306\n",
      "Epoch 20/200\n",
      "2867/2867 [==============================] - 793s 276ms/step - loss: 1.2186 - accuracy: 0.5391\n",
      "Epoch 21/200\n",
      "2867/2867 [==============================] - 799s 279ms/step - loss: 1.1968 - accuracy: 0.5451\n",
      "Epoch 22/200\n",
      "2867/2867 [==============================] - 802s 280ms/step - loss: 1.1838 - accuracy: 0.5520\n",
      "Epoch 23/200\n",
      "2867/2867 [==============================] - 8216s 3s/step - loss: 1.1689 - accuracy: 0.5589\n",
      "Epoch 24/200\n",
      "2867/2867 [==============================] - 1166s 407ms/step - loss: 1.1526 - accuracy: 0.5638\n",
      "Epoch 25/200\n",
      "2867/2867 [==============================] - 1123s 392ms/step - loss: 1.1408 - accuracy: 0.5697\n",
      "Epoch 26/200\n",
      "2867/2867 [==============================] - 966s 337ms/step - loss: 1.1278 - accuracy: 0.5725\n",
      "Epoch 27/200\n",
      "2867/2867 [==============================] - 948s 331ms/step - loss: 1.1102 - accuracy: 0.5795\n",
      "Epoch 28/200\n",
      "2867/2867 [==============================] - 676s 236ms/step - loss: 1.0981 - accuracy: 0.5832\n",
      "Epoch 29/200\n",
      "2867/2867 [==============================] - 606s 211ms/step - loss: 1.0825 - accuracy: 0.5945\n",
      "Epoch 30/200\n",
      "2867/2867 [==============================] - 595s 207ms/step - loss: 1.0773 - accuracy: 0.5956\n",
      "Epoch 31/200\n",
      "2867/2867 [==============================] - 607s 212ms/step - loss: 1.0604 - accuracy: 0.5997\n",
      "Epoch 32/200\n",
      "2867/2867 [==============================] - 612s 213ms/step - loss: 1.0499 - accuracy: 0.6029\n",
      "Epoch 33/200\n",
      "2867/2867 [==============================] - 713s 249ms/step - loss: 1.0376 - accuracy: 0.6100\n",
      "Epoch 34/200\n",
      "2867/2867 [==============================] - 882s 308ms/step - loss: 1.0205 - accuracy: 0.6149\n",
      "Epoch 35/200\n",
      "2867/2867 [==============================] - 600s 209ms/step - loss: 1.0113 - accuracy: 0.6185\n",
      "Epoch 36/200\n",
      "2867/2867 [==============================] - 612s 213ms/step - loss: 0.9979 - accuracy: 0.6220\n",
      "Epoch 37/200\n",
      "2867/2867 [==============================] - 637s 222ms/step - loss: 0.9794 - accuracy: 0.6297\n",
      "Epoch 38/200\n",
      "2867/2867 [==============================] - 600s 209ms/step - loss: 0.9738 - accuracy: 0.6309\n",
      "Epoch 39/200\n",
      "2867/2867 [==============================] - 598s 208ms/step - loss: 0.9620 - accuracy: 0.6393\n",
      "Epoch 40/200\n",
      "2867/2867 [==============================] - 603s 210ms/step - loss: 0.9517 - accuracy: 0.6418\n",
      "Epoch 41/200\n",
      "2867/2867 [==============================] - 598s 209ms/step - loss: 0.9363 - accuracy: 0.6471\n",
      "Epoch 42/200\n",
      "2867/2867 [==============================] - 34433s 12s/step - loss: 0.9273 - accuracy: 0.6541\n",
      "Epoch 43/200\n",
      "2867/2867 [==============================] - 1071s 374ms/step - loss: 0.9156 - accuracy: 0.6585\n",
      "Epoch 44/200\n",
      "2867/2867 [==============================] - 1050s 366ms/step - loss: 0.9102 - accuracy: 0.6587\n",
      "Epoch 45/200\n",
      "2867/2867 [==============================] - 957s 334ms/step - loss: 0.8898 - accuracy: 0.6644\n",
      "Epoch 46/200\n",
      "2867/2867 [==============================] - 874s 305ms/step - loss: 0.8832 - accuracy: 0.6699\n",
      "Epoch 47/200\n",
      "2867/2867 [==============================] - 857s 299ms/step - loss: 0.8791 - accuracy: 0.6738\n",
      "Epoch 48/200\n",
      "2867/2867 [==============================] - 876s 305ms/step - loss: 0.8622 - accuracy: 0.6783\n",
      "Epoch 49/200\n",
      "2867/2867 [==============================] - 619s 216ms/step - loss: 0.8522 - accuracy: 0.6821\n",
      "Epoch 50/200\n",
      "2867/2867 [==============================] - 7980s 3s/step - loss: 0.8375 - accuracy: 0.6868\n",
      "Epoch 51/200\n",
      "2867/2867 [==============================] - 953s 333ms/step - loss: 0.8348 - accuracy: 0.6904\n",
      "Epoch 52/200\n",
      "2867/2867 [==============================] - 955s 333ms/step - loss: 0.8239 - accuracy: 0.6927\n",
      "Epoch 53/200\n",
      "2867/2867 [==============================] - 956s 333ms/step - loss: 0.8032 - accuracy: 0.6996\n",
      "Epoch 54/200\n",
      "2867/2867 [==============================] - 958s 334ms/step - loss: 0.7973 - accuracy: 0.7026\n",
      "Epoch 55/200\n",
      "2867/2867 [==============================] - 959s 334ms/step - loss: 0.7909 - accuracy: 0.7042\n",
      "Epoch 56/200\n",
      "2867/2867 [==============================] - 959s 334ms/step - loss: 0.7810 - accuracy: 0.7095\n",
      "Epoch 57/200\n",
      "2867/2867 [==============================] - 959s 334ms/step - loss: 0.7726 - accuracy: 0.7125\n",
      "Epoch 58/200\n",
      "2867/2867 [==============================] - 956s 334ms/step - loss: 0.7593 - accuracy: 0.7197\n",
      "Epoch 59/200\n",
      "2867/2867 [==============================] - 955s 333ms/step - loss: 0.7485 - accuracy: 0.7245\n",
      "Epoch 60/200\n",
      "2867/2867 [==============================] - 22702s 8s/step - loss: 0.7436 - accuracy: 0.7261\n",
      "Epoch 61/200\n",
      "2867/2867 [==============================] - 1173s 409ms/step - loss: 0.7310 - accuracy: 0.7289\n",
      "Epoch 62/200\n",
      "2867/2867 [==============================] - 970s 338ms/step - loss: 0.7235 - accuracy: 0.7319\n",
      "Epoch 63/200\n",
      "2867/2867 [==============================] - 1176s 410ms/step - loss: 0.7103 - accuracy: 0.7356\n",
      "Epoch 64/200\n",
      "2867/2867 [==============================] - 1263s 441ms/step - loss: 0.6966 - accuracy: 0.7443\n",
      "Epoch 65/200\n",
      "2867/2867 [==============================] - 798s 278ms/step - loss: 0.6998 - accuracy: 0.7408\n",
      "Epoch 66/200\n",
      "2867/2867 [==============================] - 615s 214ms/step - loss: 0.6861 - accuracy: 0.7461\n",
      "Epoch 67/200\n",
      "2867/2867 [==============================] - 607s 212ms/step - loss: 0.6759 - accuracy: 0.7518\n",
      "Epoch 68/200\n",
      "2867/2867 [==============================] - 41224s 14s/step - loss: 0.6605 - accuracy: 0.7573\n",
      "Epoch 69/200\n",
      "2867/2867 [==============================] - 1406s 491ms/step - loss: 0.6626 - accuracy: 0.7547\n",
      "Epoch 70/200\n",
      "2867/2867 [==============================] - 1005s 351ms/step - loss: 0.6544 - accuracy: 0.7584\n",
      "Epoch 71/200\n",
      "2867/2867 [==============================] - 922s 322ms/step - loss: 0.6504 - accuracy: 0.7612\n",
      "Epoch 72/200\n",
      "2867/2867 [==============================] - 972s 339ms/step - loss: 0.6380 - accuracy: 0.7629\n",
      "Epoch 73/200\n",
      "2867/2867 [==============================] - 914s 319ms/step - loss: 0.6272 - accuracy: 0.7681\n",
      "Epoch 74/200\n",
      "2867/2867 [==============================] - 951s 332ms/step - loss: 0.6259 - accuracy: 0.7707\n",
      "Epoch 75/200\n",
      "2867/2867 [==============================] - 945s 330ms/step - loss: 0.6167 - accuracy: 0.7741\n",
      "Epoch 76/200\n",
      "2867/2867 [==============================] - 1084s 378ms/step - loss: 0.6016 - accuracy: 0.7778\n",
      "Epoch 77/200\n",
      "2867/2867 [==============================] - 1107s 386ms/step - loss: 0.5932 - accuracy: 0.7837\n",
      "Epoch 78/200\n",
      "2867/2867 [==============================] - 1036s 361ms/step - loss: 0.5926 - accuracy: 0.7825\n",
      "Epoch 79/200\n",
      "2867/2867 [==============================] - 684s 238ms/step - loss: 0.5797 - accuracy: 0.7894\n",
      "Epoch 80/200\n",
      "2867/2867 [==============================] - 625s 218ms/step - loss: 0.5737 - accuracy: 0.7916\n",
      "Epoch 81/200\n",
      "2867/2867 [==============================] - 645s 225ms/step - loss: 0.5628 - accuracy: 0.7951\n",
      "Epoch 82/200\n",
      "2867/2867 [==============================] - 623s 217ms/step - loss: 0.5609 - accuracy: 0.7941\n",
      "Epoch 83/200\n",
      "2867/2867 [==============================] - 619s 216ms/step - loss: 0.5495 - accuracy: 0.7970\n",
      "Epoch 84/200\n",
      "2867/2867 [==============================] - 715s 249ms/step - loss: 0.5409 - accuracy: 0.8046\n",
      "Epoch 85/200\n",
      "2867/2867 [==============================] - 687s 240ms/step - loss: 0.5399 - accuracy: 0.8015\n",
      "Epoch 86/200\n",
      "2867/2867 [==============================] - 613s 214ms/step - loss: 0.5317 - accuracy: 0.8097\n",
      "Epoch 87/200\n",
      "2867/2867 [==============================] - 784s 273ms/step - loss: 0.5249 - accuracy: 0.8099\n",
      "Epoch 88/200\n",
      "2867/2867 [==============================] - 1031s 360ms/step - loss: 0.5229 - accuracy: 0.8093\n",
      "Epoch 89/200\n",
      "2867/2867 [==============================] - 1091s 380ms/step - loss: 0.5168 - accuracy: 0.8124\n",
      "Epoch 90/200\n",
      "2867/2867 [==============================] - 1163s 406ms/step - loss: 0.5101 - accuracy: 0.8133\n",
      "Epoch 91/200\n",
      "2867/2867 [==============================] - 982s 342ms/step - loss: 0.5075 - accuracy: 0.8174\n",
      "Epoch 92/200\n",
      "2867/2867 [==============================] - 913s 319ms/step - loss: 0.5019 - accuracy: 0.8171\n",
      "Epoch 93/200\n",
      "2867/2867 [==============================] - 936s 326ms/step - loss: 0.4943 - accuracy: 0.8226\n",
      "Epoch 94/200\n",
      "2867/2867 [==============================] - 931s 325ms/step - loss: 0.4820 - accuracy: 0.8250\n",
      "Epoch 95/200\n",
      "2867/2867 [==============================] - 978s 341ms/step - loss: 0.4785 - accuracy: 0.8267\n",
      "Epoch 96/200\n",
      "2867/2867 [==============================] - 1068s 373ms/step - loss: 0.4772 - accuracy: 0.8271\n",
      "Epoch 97/200\n",
      "2867/2867 [==============================] - 1159s 404ms/step - loss: 0.4680 - accuracy: 0.8320\n",
      "Epoch 98/200\n",
      "2867/2867 [==============================] - 1183s 412ms/step - loss: 0.4668 - accuracy: 0.8331\n",
      "Epoch 99/200\n",
      "2867/2867 [==============================] - 863s 301ms/step - loss: 0.4553 - accuracy: 0.8365\n",
      "Epoch 100/200\n",
      "2867/2867 [==============================] - 2317s 808ms/step - loss: 0.4607 - accuracy: 0.8340\n",
      "Epoch 101/200\n",
      "2867/2867 [==============================] - 618s 216ms/step - loss: 0.4534 - accuracy: 0.8377\n",
      "Epoch 102/200\n",
      "2867/2867 [==============================] - 626s 218ms/step - loss: 0.4441 - accuracy: 0.8360\n",
      "Epoch 103/200\n",
      "2867/2867 [==============================] - 634s 221ms/step - loss: 0.4469 - accuracy: 0.8405\n",
      "Epoch 104/200\n",
      "2867/2867 [==============================] - 627s 219ms/step - loss: 0.4310 - accuracy: 0.8440\n",
      "Epoch 105/200\n",
      "2867/2867 [==============================] - 714s 249ms/step - loss: 0.4326 - accuracy: 0.8451\n",
      "Epoch 106/200\n",
      "2867/2867 [==============================] - 665s 232ms/step - loss: 0.4272 - accuracy: 0.8469\n",
      "Epoch 107/200\n",
      "2867/2867 [==============================] - 816s 285ms/step - loss: 0.4290 - accuracy: 0.8455\n",
      "Epoch 108/200\n",
      "2867/2867 [==============================] - 1103s 385ms/step - loss: 0.4140 - accuracy: 0.8510\n",
      "Epoch 109/200\n",
      "2867/2867 [==============================] - 1166s 407ms/step - loss: 0.4174 - accuracy: 0.8494\n",
      "Epoch 110/200\n",
      "2867/2867 [==============================] - 1192s 416ms/step - loss: 0.4148 - accuracy: 0.8495\n",
      "Epoch 111/200\n",
      "2867/2867 [==============================] - 962s 336ms/step - loss: 0.4066 - accuracy: 0.8545\n",
      "Epoch 112/200\n",
      "2867/2867 [==============================] - 901s 314ms/step - loss: 0.3991 - accuracy: 0.8583\n",
      "Epoch 113/200\n",
      "2867/2867 [==============================] - 1132s 395ms/step - loss: 0.3889 - accuracy: 0.8607\n",
      "Epoch 114/200\n",
      "2867/2867 [==============================] - 891s 311ms/step - loss: 0.3921 - accuracy: 0.8591\n",
      "Epoch 115/200\n",
      "2867/2867 [==============================] - 845s 295ms/step - loss: 0.3817 - accuracy: 0.8641\n",
      "Epoch 116/200\n",
      "2867/2867 [==============================] - 856s 299ms/step - loss: 0.3877 - accuracy: 0.8612\n",
      "Epoch 117/200\n",
      "2867/2867 [==============================] - 865s 302ms/step - loss: 0.3837 - accuracy: 0.8623\n",
      "Epoch 118/200\n",
      "2867/2867 [==============================] - 747s 261ms/step - loss: 0.3731 - accuracy: 0.8658\n",
      "Epoch 119/200\n",
      "2867/2867 [==============================] - 33910s 12s/step - loss: 0.3736 - accuracy: 0.8675\n",
      "Epoch 120/200\n",
      "2867/2867 [==============================] - 1015s 354ms/step - loss: 0.3684 - accuracy: 0.8693\n",
      "Epoch 121/200\n",
      "2867/2867 [==============================] - 975s 340ms/step - loss: 0.3673 - accuracy: 0.8682\n",
      "Epoch 122/200\n",
      "2867/2867 [==============================] - 908s 317ms/step - loss: 0.3661 - accuracy: 0.8696\n",
      "Epoch 123/200\n",
      "2867/2867 [==============================] - 671s 234ms/step - loss: 0.3554 - accuracy: 0.8727\n",
      "Epoch 124/200\n",
      "2867/2867 [==============================] - 621s 217ms/step - loss: 0.3545 - accuracy: 0.8747\n",
      "Epoch 125/200\n",
      "2867/2867 [==============================] - 784s 273ms/step - loss: 0.3562 - accuracy: 0.8733\n",
      "Epoch 126/200\n",
      "2867/2867 [==============================] - 948s 331ms/step - loss: 0.3526 - accuracy: 0.8753\n",
      "Epoch 127/200\n",
      "2867/2867 [==============================] - 792s 276ms/step - loss: 0.3448 - accuracy: 0.8774\n",
      "Epoch 128/200\n",
      "2867/2867 [==============================] - 635s 221ms/step - loss: 0.3453 - accuracy: 0.8775\n",
      "Epoch 129/200\n",
      "2867/2867 [==============================] - 703s 245ms/step - loss: 0.3437 - accuracy: 0.8785\n",
      "Epoch 130/200\n",
      "2867/2867 [==============================] - 942s 329ms/step - loss: 0.3398 - accuracy: 0.8787\n",
      "Epoch 131/200\n",
      "2867/2867 [==============================] - 917s 320ms/step - loss: 0.3409 - accuracy: 0.8778\n",
      "Epoch 132/200\n",
      "2867/2867 [==============================] - 1038s 362ms/step - loss: 0.3331 - accuracy: 0.8811\n",
      "Epoch 133/200\n",
      "2867/2867 [==============================] - 1089s 380ms/step - loss: 0.3318 - accuracy: 0.8816\n",
      "Epoch 134/200\n",
      "2867/2867 [==============================] - 1084s 378ms/step - loss: 0.3324 - accuracy: 0.8828\n",
      "Epoch 135/200\n",
      "2867/2867 [==============================] - 1096s 382ms/step - loss: 0.3208 - accuracy: 0.8888\n",
      "Epoch 136/200\n",
      "2867/2867 [==============================] - 1030s 359ms/step - loss: 0.3227 - accuracy: 0.8846\n",
      "Epoch 137/200\n",
      "2867/2867 [==============================] - 962s 336ms/step - loss: 0.3188 - accuracy: 0.8874\n",
      "Epoch 138/200\n",
      "2867/2867 [==============================] - 38333s 13s/step - loss: 0.3199 - accuracy: 0.8862\n",
      "Epoch 139/200\n",
      "2867/2867 [==============================] - 36794s 13s/step - loss: 0.3082 - accuracy: 0.8917\n",
      "Epoch 140/200\n",
      "2867/2867 [==============================] - 630s 220ms/step - loss: 0.3140 - accuracy: 0.8883\n",
      "Epoch 141/200\n",
      "2867/2867 [==============================] - 634s 221ms/step - loss: 0.3088 - accuracy: 0.8928\n",
      "Epoch 142/200\n",
      "2867/2867 [==============================] - 640s 223ms/step - loss: 0.3045 - accuracy: 0.8914\n",
      "Epoch 143/200\n",
      "2867/2867 [==============================] - 646s 225ms/step - loss: 0.3018 - accuracy: 0.8933\n",
      "Epoch 144/200\n",
      "2867/2867 [==============================] - 893s 312ms/step - loss: 0.2989 - accuracy: 0.8936\n",
      "Epoch 145/200\n",
      "2867/2867 [==============================] - 941s 328ms/step - loss: 0.3029 - accuracy: 0.8938\n",
      "Epoch 146/200\n",
      "2867/2867 [==============================] - 1098s 383ms/step - loss: 0.2996 - accuracy: 0.8951\n",
      "Epoch 147/200\n",
      "2867/2867 [==============================] - 892s 311ms/step - loss: 0.2940 - accuracy: 0.8971\n",
      "Epoch 148/200\n",
      "2867/2867 [==============================] - 891s 311ms/step - loss: 0.2941 - accuracy: 0.8973\n",
      "Epoch 149/200\n",
      "2867/2867 [==============================] - 998s 348ms/step - loss: 0.2947 - accuracy: 0.8974\n",
      "Epoch 150/200\n",
      "2867/2867 [==============================] - 1083s 378ms/step - loss: 0.2847 - accuracy: 0.9005\n",
      "Epoch 151/200\n",
      "2867/2867 [==============================] - 1069s 373ms/step - loss: 0.2775 - accuracy: 0.9013\n",
      "Epoch 152/200\n",
      "2867/2867 [==============================] - 1058s 369ms/step - loss: 0.2816 - accuracy: 0.9014\n",
      "Epoch 153/200\n",
      "2867/2867 [==============================] - 660s 230ms/step - loss: 0.2879 - accuracy: 0.8988\n",
      "Epoch 154/200\n",
      "2867/2867 [==============================] - 637s 222ms/step - loss: 0.2792 - accuracy: 0.9025\n",
      "Epoch 155/200\n",
      "2867/2867 [==============================] - 681s 238ms/step - loss: 0.2757 - accuracy: 0.9034\n",
      "Epoch 156/200\n",
      "2867/2867 [==============================] - 898s 313ms/step - loss: 0.2708 - accuracy: 0.9051\n",
      "Epoch 157/200\n",
      "2867/2867 [==============================] - 902s 315ms/step - loss: 0.2733 - accuracy: 0.9030\n",
      "Epoch 158/200\n",
      "2867/2867 [==============================] - 953s 333ms/step - loss: 0.2671 - accuracy: 0.9055\n",
      "Epoch 160/200\n",
      "2867/2867 [==============================] - 932s 325ms/step - loss: 0.2644 - accuracy: 0.9069\n",
      "Epoch 161/200\n",
      "2867/2867 [==============================] - 1600s 558ms/step - loss: 0.2616 - accuracy: 0.9079\n",
      "Epoch 162/200\n",
      "2867/2867 [==============================] - 1060s 370ms/step - loss: 0.2550 - accuracy: 0.9098\n",
      "Epoch 163/200\n",
      "2867/2867 [==============================] - 1057s 369ms/step - loss: 0.2657 - accuracy: 0.9061\n",
      "Epoch 164/200\n",
      "2867/2867 [==============================] - 1055s 368ms/step - loss: 0.2491 - accuracy: 0.9126\n",
      "Epoch 165/200\n",
      "2867/2867 [==============================] - 5869s 2s/step - loss: 0.2596 - accuracy: 0.9087\n",
      "Epoch 168/200\n",
      "2867/2867 [==============================] - 4241s 1s/step - loss: 0.2492 - accuracy: 0.9144\n",
      "Epoch 169/200\n",
      "2867/2867 [==============================] - 717s 250ms/step - loss: 0.2465 - accuracy: 0.9135\n",
      "Epoch 170/200\n",
      "2867/2867 [==============================] - 669s 233ms/step - loss: 0.2460 - accuracy: 0.9155\n",
      "Epoch 171/200\n",
      "2867/2867 [==============================] - 927s 323ms/step - loss: 0.2409 - accuracy: 0.9152\n",
      "Epoch 172/200\n",
      "2867/2867 [==============================] - 945s 330ms/step - loss: 0.2491 - accuracy: 0.9128\n",
      "Epoch 173/200\n",
      "2867/2867 [==============================] - 960s 335ms/step - loss: 0.2454 - accuracy: 0.9155\n",
      "Epoch 174/200\n",
      "2867/2867 [==============================] - 935s 326ms/step - loss: 0.2427 - accuracy: 0.9159\n",
      "Epoch 175/200\n",
      "2867/2867 [==============================] - 954s 333ms/step - loss: 0.2380 - accuracy: 0.9180\n",
      "Epoch 176/200\n",
      "2867/2867 [==============================] - 815s 284ms/step - loss: 0.2394 - accuracy: 0.9171\n",
      "Epoch 177/200\n",
      "2867/2867 [==============================] - 689s 240ms/step - loss: 0.2344 - accuracy: 0.9191\n",
      "Epoch 178/200\n",
      "2867/2867 [==============================] - 618s 216ms/step - loss: 0.2305 - accuracy: 0.9209\n",
      "Epoch 179/200\n",
      "2867/2867 [==============================] - 625s 218ms/step - loss: 0.2302 - accuracy: 0.9210\n",
      "Epoch 180/200\n",
      "2867/2867 [==============================] - 614s 214ms/step - loss: 0.2319 - accuracy: 0.9186\n",
      "Epoch 181/200\n",
      "2867/2867 [==============================] - 606s 211ms/step - loss: 0.2333 - accuracy: 0.9205\n",
      "Epoch 182/200\n",
      "2867/2867 [==============================] - 811s 283ms/step - loss: 0.2283 - accuracy: 0.9213\n",
      "Epoch 183/200\n",
      "2867/2867 [==============================] - 932s 325ms/step - loss: 0.2275 - accuracy: 0.9196\n",
      "Epoch 184/200\n",
      "2867/2867 [==============================] - 922s 322ms/step - loss: 0.2331 - accuracy: 0.9186\n",
      "Epoch 185/200\n",
      "2867/2867 [==============================] - 929s 324ms/step - loss: 0.2330 - accuracy: 0.9204\n",
      "Epoch 186/200\n",
      "2867/2867 [==============================] - 38248s 13s/step - loss: 0.2278 - accuracy: 0.9199\n",
      "Epoch 187/200\n",
      "2867/2867 [==============================] - 798s 278ms/step - loss: 0.2232 - accuracy: 0.9233\n",
      "Epoch 188/200\n",
      "2867/2867 [==============================] - 668s 233ms/step - loss: 0.2185 - accuracy: 0.9239\n",
      "Epoch 189/200\n",
      "2867/2867 [==============================] - 671s 234ms/step - loss: 0.2193 - accuracy: 0.9247\n",
      "Epoch 190/200\n",
      "2867/2867 [==============================] - 787s 275ms/step - loss: 0.2178 - accuracy: 0.9244\n",
      "Epoch 191/200\n",
      "2867/2867 [==============================] - 1045s 364ms/step - loss: 0.2198 - accuracy: 0.9245\n",
      "Epoch 192/200\n",
      "2867/2867 [==============================] - 988s 345ms/step - loss: 0.2215 - accuracy: 0.9243\n",
      "Epoch 193/200\n",
      "2867/2867 [==============================] - 1041s 363ms/step - loss: 0.2184 - accuracy: 0.9259\n",
      "Epoch 194/200\n",
      "2867/2867 [==============================] - 1046s 365ms/step - loss: 0.2106 - accuracy: 0.9252\n",
      "Epoch 195/200\n",
      "2867/2867 [==============================] - 1225s 427ms/step - loss: 0.2214 - accuracy: 0.9235\n",
      "Epoch 196/200\n",
      "2867/2867 [==============================] - 912s 318ms/step - loss: 0.2168 - accuracy: 0.9247\n",
      "Epoch 197/200\n",
      "2867/2867 [==============================] - 1013s 354ms/step - loss: 0.2094 - accuracy: 0.9277\n",
      "Epoch 198/200\n",
      "2867/2867 [==============================] - 1055s 368ms/step - loss: 0.2100 - accuracy: 0.9280\n",
      "Epoch 199/200\n",
      "2867/2867 [==============================] - 1575s 549ms/step - loss: 0.2092 - accuracy: 0.9264\n",
      "Epoch 200/200\n",
      "2867/2867 [==============================] - 921s 321ms/step - loss: 0.2099 - accuracy: 0.9269\n"
     ]
    }
   ],
   "source": [
    "history=model.fit(x_train,y_train,epochs=200,batch_size=10)"
   ]
  },
  {
   "cell_type": "code",
   "execution_count": 24,
   "id": "7e7ce28b-c365-4240-9e2d-8d5b54d0a650",
   "metadata": {},
   "outputs": [
    {
     "data": {
      "text/plain": [
       "dict_keys(['loss', 'accuracy'])"
      ]
     },
     "execution_count": 24,
     "metadata": {},
     "output_type": "execute_result"
    }
   ],
   "source": [
    "history.history.keys()"
   ]
  },
  {
   "cell_type": "code",
   "execution_count": 25,
   "id": "8b153557-9a83-4028-a41e-190150c5bf29",
   "metadata": {},
   "outputs": [
    {
     "data": {
      "image/png": "[encoded data removed]",
      "text/plain": [
       "<Figure size 640x480 with 1 Axes>"
      ]
     },
     "metadata": {},
     "output_type": "display_data"
    }
   ],
   "source": [
    "import matplotlib.pyplot as plt\n",
    "plt.plot(history.history['accuracy'])\n",
    "plt.title('model accuracy')\n",
    "plt.ylabel('accuracy')\n",
    "plt.xlabel('epoch')\n",
    "plt.legend(['train'],loc='upper left')\n",
    "plt.show()"
   ]
  },
  {
   "cell_type": "code",
   "execution_count": 27,
   "id": "ac9de19e-9bb1-468c-b4d6-8686c61f3b26",
   "metadata": {},
   "outputs": [
    {
     "ename": "ValueError",
     "evalue": "in user code:\n\n    File \"D:\\Conda\\Lib\\site-packages\\keras\\engine\\training.py\", line 1852, in test_function  *\n        return step_function(self, iterator)\n    File \"D:\\Conda\\Lib\\site-packages\\keras\\engine\\training.py\", line 1836, in step_function  **\n        outputs = model.distribute_strategy.run(run_step, args=(data,))\n    File \"D:\\Conda\\Lib\\site-packages\\keras\\engine\\training.py\", line 1824, in run_step  **\n        outputs = model.test_step(data)\n    File \"D:\\Conda\\Lib\\site-packages\\keras\\engine\\training.py\", line 1788, in test_step\n        y_pred = self(x, training=False)\n    File \"D:\\Conda\\Lib\\site-packages\\keras\\utils\\traceback_utils.py\", line 70, in error_handler\n        raise e.with_traceback(filtered_tb) from None\n    File \"D:\\Conda\\Lib\\site-packages\\keras\\engine\\input_spec.py\", line 298, in assert_input_compatibility\n        raise ValueError(\n\n    ValueError: Input 0 of layer \"sequential\" is incompatible with the layer: expected shape=(None, 48, 48, 1), found shape=(None, 28, 28, 1)\n",
     "output_type": "error",
     "traceback": [
      "\u001b[1;31m---------------------------------------------------------------\u001b[0m",
      "\u001b[1;31mValueError\u001b[0m                    Traceback (most recent call last)",
      "Cell \u001b[1;32mIn[27], line 42\u001b[0m\n\u001b[0;32m     22\u001b[0m y_test \u001b[38;5;241m=\u001b[39m to_categorical(y_test)\n\u001b[0;32m     24\u001b[0m \u001b[38;5;66;03m# Step 2: Build the CNN model\u001b[39;00m\n\u001b[0;32m     25\u001b[0m \u001b[38;5;66;03m# model = Sequential([\u001b[39;00m\n\u001b[0;32m     26\u001b[0m \u001b[38;5;66;03m#     Conv2D(32, (3, 3), activation='relu', input_shape=(28, 28, 1)),\u001b[39;00m\n\u001b[1;32m   (...)\u001b[0m\n\u001b[0;32m     40\u001b[0m \n\u001b[0;32m     41\u001b[0m \u001b[38;5;66;03m# Step 5: Evaluate the model on test data\u001b[39;00m\n\u001b[1;32m---> 42\u001b[0m test_loss, test_acc \u001b[38;5;241m=\u001b[39m model\u001b[38;5;241m.\u001b[39mevaluate(X_test, y_test)\n\u001b[0;32m     43\u001b[0m \u001b[38;5;28mprint\u001b[39m(\u001b[38;5;124mf\u001b[39m\u001b[38;5;124m'\u001b[39m\u001b[38;5;124mTest accuracy: \u001b[39m\u001b[38;5;132;01m{\u001b[39;00mtest_acc\u001b[38;5;132;01m:\u001b[39;00m\u001b[38;5;124m.4f\u001b[39m\u001b[38;5;132;01m}\u001b[39;00m\u001b[38;5;124m'\u001b[39m)\n\u001b[0;32m     45\u001b[0m \u001b[38;5;66;03m# Step 6: Make predictions on the test data\u001b[39;00m\n",
      "File \u001b[1;32mD:\\Conda\\Lib\\site-packages\\keras\\utils\\traceback_utils.py:70\u001b[0m, in \u001b[0;36mfilter_traceback.<locals>.error_handler\u001b[1;34m(*args, **kwargs)\u001b[0m\n\u001b[0;32m     67\u001b[0m     filtered_tb \u001b[38;5;241m=\u001b[39m _process_traceback_frames(e\u001b[38;5;241m.\u001b[39m__traceback__)\n\u001b[0;32m     68\u001b[0m     \u001b[38;5;66;03m# To get the full stack trace, call:\u001b[39;00m\n\u001b[0;32m     69\u001b[0m     \u001b[38;5;66;03m# `tf.debugging.disable_traceback_filtering()`\u001b[39;00m\n\u001b[1;32m---> 70\u001b[0m     \u001b[38;5;28;01mraise\u001b[39;00m e\u001b[38;5;241m.\u001b[39mwith_traceback(filtered_tb) \u001b[38;5;28;01mfrom\u001b[39;00m \u001b[38;5;28;01mNone\u001b[39;00m\n\u001b[0;32m     71\u001b[0m \u001b[38;5;28;01mfinally\u001b[39;00m:\n\u001b[0;32m     72\u001b[0m     \u001b[38;5;28;01mdel\u001b[39;00m filtered_tb\n",
      "File \u001b[1;32mC:\\Users\\RAMKRI~1\\AppData\\Local\\Temp\\__autograph_generated_filezj9n11ip.py:15\u001b[0m, in \u001b[0;36mouter_factory.<locals>.inner_factory.<locals>.tf__test_function\u001b[1;34m(iterator)\u001b[0m\n\u001b[0;32m     13\u001b[0m \u001b[38;5;28;01mtry\u001b[39;00m:\n\u001b[0;32m     14\u001b[0m     do_return \u001b[38;5;241m=\u001b[39m \u001b[38;5;28;01mTrue\u001b[39;00m\n\u001b[1;32m---> 15\u001b[0m     retval_ \u001b[38;5;241m=\u001b[39m ag__\u001b[38;5;241m.\u001b[39mconverted_call(ag__\u001b[38;5;241m.\u001b[39mld(step_function), (ag__\u001b[38;5;241m.\u001b[39mld(\u001b[38;5;28mself\u001b[39m), ag__\u001b[38;5;241m.\u001b[39mld(iterator)), \u001b[38;5;28;01mNone\u001b[39;00m, fscope)\n\u001b[0;32m     16\u001b[0m \u001b[38;5;28;01mexcept\u001b[39;00m:\n\u001b[0;32m     17\u001b[0m     do_return \u001b[38;5;241m=\u001b[39m \u001b[38;5;28;01mFalse\u001b[39;00m\n",
      "\u001b[1;31mValueError\u001b[0m: in user code:\n\n    File \"D:\\Conda\\Lib\\site-packages\\keras\\engine\\training.py\", line 1852, in test_function  *\n        return step_function(self, iterator)\n    File \"D:\\Conda\\Lib\\site-packages\\keras\\engine\\training.py\", line 1836, in step_function  **\n        outputs = model.distribute_strategy.run(run_step, args=(data,))\n    File \"D:\\Conda\\Lib\\site-packages\\keras\\engine\\training.py\", line 1824, in run_step  **\n        outputs = model.test_step(data)\n    File \"D:\\Conda\\Lib\\site-packages\\keras\\engine\\training.py\", line 1788, in test_step\n        y_pred = self(x, training=False)\n    File \"D:\\Conda\\Lib\\site-packages\\keras\\utils\\traceback_utils.py\", line 70, in error_handler\n        raise e.with_traceback(filtered_tb) from None\n    File \"D:\\Conda\\Lib\\site-packages\\keras\\engine\\input_spec.py\", line 298, in assert_input_compatibility\n        raise ValueError(\n\n    ValueError: Input 0 of layer \"sequential\" is incompatible with the layer: expected shape=(None, 48, 48, 1), found shape=(None, 28, 28, 1)\n"
     ]
    }
   ],
   "source": [
    "import numpy as np\n",
    "import matplotlib.pyplot as plt\n",
    "import tensorflow as tf\n",
    "from tensorflow.keras.datasets import mnist\n",
    "from tensorflow.keras.models import Sequential\n",
    "from tensorflow.keras.layers import Conv2D, MaxPooling2D, Flatten, Dense\n",
    "from tensorflow.keras.utils import to_categorical\n",
    "\n",
    "# Step 1: Load and preprocess the data\n",
    "(x_train, y_train), (x_test, y_test) = mnist.load_data()\n",
    "\n",
    "# Normalize the data\n",
    "X_train = x_train / 255.0\n",
    "X_test = x_test / 255.0\n",
    "\n",
    "# Reshape the data to fit the model\n",
    "X_train = x_train.reshape(-1, 28, 28, 1)\n",
    "X_test = x_test.reshape(-1, 28, 28, 1)\n",
    "\n",
    "# One-hot encode the labels\n",
    "y_train = to_categorical(y_train)\n",
    "y_test = to_categorical(y_test)\n",
    "\n",
    "# Step 2: Build the CNN model\n",
    "# model = Sequential([\n",
    "#     Conv2D(32, (3, 3), activation='relu', input_shape=(28, 28, 1)),\n",
    "#     MaxPooling2D((2, 2)),\n",
    "#     Conv2D(64, (3, 3), activation='relu'),\n",
    "#     MaxPooling2D((2, 2)),\n",
    "#     Flatten(),\n",
    "#     Dense(64, activation='relu'),\n",
    "#     Dense(10, activation='softmax')\n",
    "# ])\n",
    "\n",
    "# Step 3: Compile the model\n",
    "# model.compile(optimizer='adam', loss='categorical_crossentropy', metrics=['accuracy'])\n",
    "\n",
    "# Step 4: Train the model\n",
    "# history = model.fit(X_train, y_train, epochs=5, validation_data=(X_test, y_test))\n",
    "\n",
    "# Step 5: Evaluate the model on test data\n",
    "test_loss, test_acc = model.evaluate(X_test, y_test)\n",
    "print(f'Test accuracy: {test_acc:.4f}')\n",
    "\n",
    "# Step 6: Make predictions on the test data\n",
    "y_test_pred = model.predict(X_test)\n",
    "y_train_pred = model.predict(X_train)\n",
    "\n",
    "# Step 7: Plot some predictions for training data\n",
    "fig, axes = plt.subplots(1, 5, figsize=(15, 3))\n",
    "for i, ax in enumerate(axes):\n",
    "    ax.imshow(X_train[i].reshape(28, 28), cmap='gray')\n",
    "    ax.set_title(f'True: {np.argmax(y_train[i])}\\nPred: {np.argmax(y_train_pred[i])}')\n",
    "    ax.axis('off')\n",
    "\n",
    "# Step 8: Plot some predictions for test data\n",
    "fig, axes = plt.subplots(1, 5, figsize=(15, 3))\n",
    "for i, ax in enumerate(axes):\n",
    "    ax.imshow(X_test[i].reshape(28, 28), cmap='gray')\n",
    "    ax.set_title(f'True: {np.argmax(y_test[i])}\\nPred: {np.argmax(y_test_pred[i])}')\n",
    "    ax.axis('off')\n",
    "\n",
    "plt.show()\n"
   ]
  },
  {
   "cell_type": "code",
   "execution_count": 28,
   "id": "8f325826-c16a-42ac-912d-4638dc77be72",
   "metadata": {},
   "outputs": [
    {
     "ename": "ValueError",
     "evalue": "in user code:\n\n    File \"D:\\Conda\\Lib\\site-packages\\keras\\engine\\training.py\", line 2169, in predict_function  *\n        return step_function(self, iterator)\n    File \"D:\\Conda\\Lib\\site-packages\\keras\\engine\\training.py\", line 2155, in step_function  **\n        outputs = model.distribute_strategy.run(run_step, args=(data,))\n    File \"D:\\Conda\\Lib\\site-packages\\keras\\engine\\training.py\", line 2143, in run_step  **\n        outputs = model.predict_step(data)\n    File \"D:\\Conda\\Lib\\site-packages\\keras\\engine\\training.py\", line 2111, in predict_step\n        return self(x, training=False)\n    File \"D:\\Conda\\Lib\\site-packages\\keras\\utils\\traceback_utils.py\", line 70, in error_handler\n        raise e.with_traceback(filtered_tb) from None\n    File \"D:\\Conda\\Lib\\site-packages\\keras\\engine\\input_spec.py\", line 298, in assert_input_compatibility\n        raise ValueError(\n\n    ValueError: Input 0 of layer \"sequential\" is incompatible with the layer: expected shape=(None, 48, 48, 1), found shape=(None, 28, 28)\n",
     "output_type": "error",
     "traceback": [
      "\u001b[1;31m---------------------------------------------------------------\u001b[0m",
      "\u001b[1;31mValueError\u001b[0m                    Traceback (most recent call last)",
      "Cell \u001b[1;32mIn[28], line 1\u001b[0m\n\u001b[1;32m----> 1\u001b[0m y_test_predict\u001b[38;5;241m=\u001b[39mmodel\u001b[38;5;241m.\u001b[39mpredict(x_test)\n",
      "File \u001b[1;32mD:\\Conda\\Lib\\site-packages\\keras\\utils\\traceback_utils.py:70\u001b[0m, in \u001b[0;36mfilter_traceback.<locals>.error_handler\u001b[1;34m(*args, **kwargs)\u001b[0m\n\u001b[0;32m     67\u001b[0m     filtered_tb \u001b[38;5;241m=\u001b[39m _process_traceback_frames(e\u001b[38;5;241m.\u001b[39m__traceback__)\n\u001b[0;32m     68\u001b[0m     \u001b[38;5;66;03m# To get the full stack trace, call:\u001b[39;00m\n\u001b[0;32m     69\u001b[0m     \u001b[38;5;66;03m# `tf.debugging.disable_traceback_filtering()`\u001b[39;00m\n\u001b[1;32m---> 70\u001b[0m     \u001b[38;5;28;01mraise\u001b[39;00m e\u001b[38;5;241m.\u001b[39mwith_traceback(filtered_tb) \u001b[38;5;28;01mfrom\u001b[39;00m \u001b[38;5;28;01mNone\u001b[39;00m\n\u001b[0;32m     71\u001b[0m \u001b[38;5;28;01mfinally\u001b[39;00m:\n\u001b[0;32m     72\u001b[0m     \u001b[38;5;28;01mdel\u001b[39;00m filtered_tb\n",
      "File \u001b[1;32mC:\\Users\\RAMKRI~1\\AppData\\Local\\Temp\\__autograph_generated_fileezz3j390.py:15\u001b[0m, in \u001b[0;36mouter_factory.<locals>.inner_factory.<locals>.tf__predict_function\u001b[1;34m(iterator)\u001b[0m\n\u001b[0;32m     13\u001b[0m \u001b[38;5;28;01mtry\u001b[39;00m:\n\u001b[0;32m     14\u001b[0m     do_return \u001b[38;5;241m=\u001b[39m \u001b[38;5;28;01mTrue\u001b[39;00m\n\u001b[1;32m---> 15\u001b[0m     retval_ \u001b[38;5;241m=\u001b[39m ag__\u001b[38;5;241m.\u001b[39mconverted_call(ag__\u001b[38;5;241m.\u001b[39mld(step_function), (ag__\u001b[38;5;241m.\u001b[39mld(\u001b[38;5;28mself\u001b[39m), ag__\u001b[38;5;241m.\u001b[39mld(iterator)), \u001b[38;5;28;01mNone\u001b[39;00m, fscope)\n\u001b[0;32m     16\u001b[0m \u001b[38;5;28;01mexcept\u001b[39;00m:\n\u001b[0;32m     17\u001b[0m     do_return \u001b[38;5;241m=\u001b[39m \u001b[38;5;28;01mFalse\u001b[39;00m\n",
      "\u001b[1;31mValueError\u001b[0m: in user code:\n\n    File \"D:\\Conda\\Lib\\site-packages\\keras\\engine\\training.py\", line 2169, in predict_function  *\n        return step_function(self, iterator)\n    File \"D:\\Conda\\Lib\\site-packages\\keras\\engine\\training.py\", line 2155, in step_function  **\n        outputs = model.distribute_strategy.run(run_step, args=(data,))\n    File \"D:\\Conda\\Lib\\site-packages\\keras\\engine\\training.py\", line 2143, in run_step  **\n        outputs = model.predict_step(data)\n    File \"D:\\Conda\\Lib\\site-packages\\keras\\engine\\training.py\", line 2111, in predict_step\n        return self(x, training=False)\n    File \"D:\\Conda\\Lib\\site-packages\\keras\\utils\\traceback_utils.py\", line 70, in error_handler\n        raise e.with_traceback(filtered_tb) from None\n    File \"D:\\Conda\\Lib\\site-packages\\keras\\engine\\input_spec.py\", line 298, in assert_input_compatibility\n        raise ValueError(\n\n    ValueError: Input 0 of layer \"sequential\" is incompatible with the layer: expected shape=(None, 48, 48, 1), found shape=(None, 28, 28)\n"
     ]
    }
   ],
   "source": [
    "y_test_predict=model.predict(x_test)"
   ]
  },
  {
   "cell_type": "code",
   "execution_count": 29,
   "id": "e86d5ca6-e383-4ade-8f4c-3cfc806e7bff",
   "metadata": {},
   "outputs": [
    {
     "name": "stdout",
     "output_type": "stream",
     "text": [
      "Epoch 1/5\n",
      "1875/1875 [==============================] - 72s 36ms/step - loss: 0.1427 - accuracy: 0.9571 - val_loss: 0.0458 - val_accuracy: 0.9843\n",
      "Epoch 2/5\n",
      "1875/1875 [==============================] - 61s 33ms/step - loss: 0.0457 - accuracy: 0.9859 - val_loss: 0.0364 - val_accuracy: 0.9875\n",
      "Epoch 3/5\n",
      "1875/1875 [==============================] - 59s 32ms/step - loss: 0.0324 - accuracy: 0.9900 - val_loss: 0.0328 - val_accuracy: 0.9884\n",
      "Epoch 4/5\n",
      "1875/1875 [==============================] - 62s 33ms/step - loss: 0.0236 - accuracy: 0.9930 - val_loss: 0.0264 - val_accuracy: 0.9908\n",
      "Epoch 5/5\n",
      "1875/1875 [==============================] - 56s 30ms/step - loss: 0.0187 - accuracy: 0.9938 - val_loss: 0.0322 - val_accuracy: 0.9909\n",
      "313/313 [==============================] - 4s 11ms/step - loss: 0.0322 - accuracy: 0.9909\n",
      "Test accuracy: 0.9909\n",
      "313/313 [==============================] - 4s 11ms/step\n",
      "1875/1875 [==============================] - 20s 11ms/step\n"
     ]
    },
    {
     "data": {
      "image/png": "[encoded data removed]",
      "text/plain": [
       "<Figure size 1500x300 with 5 Axes>"
      ]
     },
     "metadata": {},
     "output_type": "display_data"
    },
    {
     "data": {
      "image/png": "[encoded data removed]",
      "text/plain": [
       "<Figure size 1500x300 with 5 Axes>"
      ]
     },
     "metadata": {},
     "output_type": "display_data"
    }
   ],
   "source": [
    "import numpy as np\n",
    "import matplotlib.pyplot as plt\n",
    "import tensorflow as tf\n",
    "from tensorflow.keras.datasets import mnist\n",
    "from tensorflow.keras.models import Sequential\n",
    "from tensorflow.keras.layers import Conv2D, MaxPooling2D, Flatten, Dense\n",
    "from tensorflow.keras.utils import to_categorical\n",
    "\n",
    "# Step 1: Load and preprocess the data\n",
    "(X_train, y_train), (X_test, y_test) = mnist.load_data()\n",
    "\n",
    "# Normalize the data\n",
    "X_train = X_train / 255.0\n",
    "X_test = X_test / 255.0\n",
    "\n",
    "# Reshape the data to fit the model\n",
    "X_train = X_train.reshape(-1, 28, 28, 1)\n",
    "X_test = X_test.reshape(-1, 28, 28, 1)\n",
    "\n",
    "# One-hot encode the labels\n",
    "y_train = to_categorical(y_train)\n",
    "y_test = to_categorical(y_test)\n",
    "\n",
    "# Step 2: Build the CNN model\n",
    "modelll = Sequential([\n",
    "    Conv2D(32, (3, 3), activation='relu', input_shape=(28, 28, 1)),\n",
    "    MaxPooling2D((2, 2)),\n",
    "    Conv2D(64, (3, 3), activation='relu'),\n",
    "    MaxPooling2D((2, 2)),\n",
    "    Flatten(),\n",
    "    Dense(64, activation='relu'),\n",
    "    Dense(10, activation='softmax')\n",
    "])\n",
    "\n",
    "# Step 3: Compile the model\n",
    "modelll.compile(optimizer='adam', loss='categorical_crossentropy', metrics=['accuracy'])\n",
    "\n",
    "# Step 4: Train the model\n",
    "historyyy = modelll.fit(X_train, y_train, epochs=5, validation_data=(X_test, y_test))\n",
    "\n",
    "# Step 5: Evaluate the model on test data\n",
    "test_loss, test_acc = modelll.evaluate(X_test, y_test)\n",
    "print(f'Test accuracy: {test_acc:.4f}')\n",
    "\n",
    "# Step 6: Make predictions on the test data\n",
    "y_test_pred = modelll.predict(X_test)\n",
    "y_train_pred = modelll.predict(X_train)\n",
    "\n",
    "# Step 7: Plot some predictions for training data\n",
    "fig, axes = plt.subplots(1, 5, figsize=(15, 3))\n",
    "for i, ax in enumerate(axes):\n",
    "    ax.imshow(X_train[i].reshape(28, 28), cmap='gray')\n",
    "    ax.set_title(f'True: {np.argmax(y_train[i])}\\nPred: {np.argmax(y_train_pred[i])}')\n",
    "    ax.axis('off')\n",
    "\n",
    "# Step 8: Plot some predictions for test data\n",
    "fig, axes = plt.subplots(1, 5, figsize=(15, 3))\n",
    "for i, ax in enumerate(axes):\n",
    "    ax.imshow(X_test[i].reshape(28, 28), cmap='gray')\n",
    "    ax.set_title(f'True: {np.argmax(y_test[i])}\\nPred: {np.argmax(y_test_pred[i])}')\n",
    "    ax.axis('off')\n",
    "\n",
    "plt.show()\n"
   ]
  },
  {
   "cell_type": "code",
   "execution_count": 30,
   "id": "49546d8a-f3d7-4577-b502-ddd9b1c36caf",
   "metadata": {},
   "outputs": [
    {
     "name": "stdout",
     "output_type": "stream",
     "text": [
      "Note: you may need to restart the kernel to use updated packages.Collecting pyinstaller\n",
      "  Downloading pyinstaller-6.7.0-py3-none-win_amd64.whl.metadata (8.3 kB)\n",
      "Requirement already satisfied: setuptools>=42.0.0 in d:\\conda\\lib\\site-packages (from pyinstaller) (68.2.2)\n",
      "Collecting altgraph (from pyinstaller)\n",
      "  Downloading altgraph-0.17.4-py2.py3-none-any.whl.metadata (7.3 kB)\n",
      "Collecting pyinstaller-hooks-contrib>=2024.6 (from pyinstaller)\n",
      "  Downloading pyinstaller_hooks_contrib-2024.6-py2.py3-none-any.whl.metadata (16 kB)\n",
      "Requirement already satisfied: packaging>=22.0 in d:\\conda\\lib\\site-packages (from pyinstaller) (23.1)\n",
      "Collecting pefile>=2022.5.30 (from pyinstaller)\n",
      "  Downloading pefile-2023.2.7-py3-none-any.whl.metadata (1.4 kB)\n",
      "Collecting pywin32-ctypes>=0.2.1 (from pyinstaller)\n",
      "  Downloading pywin32_ctypes-0.2.2-py3-none-any.whl.metadata (3.8 kB)\n",
      "Downloading pyinstaller-6.7.0-py3-none-win_amd64.whl (1.3 MB)\n",
      "   ---------------------------------------- 0.0/1.3 MB ? eta -:--:--\n",
      "    --------------------------------------- 0.0/1.3 MB 330.3 kB/s eta 0:00:04\n",
      "   - -------------------------------------- 0.1/1.3 MB 656.4 kB/s eta 0:00:02\n",
      "   ---- ----------------------------------- 0.1/1.3 MB 983.0 kB/s eta 0:00:02\n",
      "   ------- -------------------------------- 0.3/1.3 MB 1.4 MB/s eta 0:00:01\n",
      "   -------------- ------------------------- 0.5/1.3 MB 2.2 MB/s eta 0:00:01\n",
      "   --------------------- ------------------ 0.7/1.3 MB 2.6 MB/s eta 0:00:01\n",
      "   -------------------------------- ------- 1.1/1.3 MB 3.3 MB/s eta 0:00:01\n",
      "   ---------------------------------------  1.3/1.3 MB 3.8 MB/s eta 0:00:01\n",
      "   ---------------------------------------- 1.3/1.3 MB 3.3 MB/s eta 0:00:00\n",
      "Downloading pefile-2023.2.7-py3-none-any.whl (71 kB)\n",
      "   ---------------------------------------- 0.0/71.8 kB ? eta -:--:--\n",
      "   ---------------------------------------- 71.8/71.8 kB 3.8 MB/s eta 0:00:00\n",
      "Downloading pyinstaller_hooks_contrib-2024.6-py2.py3-none-any.whl (339 kB)\n",
      "   ---------------------------------------- 0.0/339.2 kB ? eta -:--:--\n",
      "   --------------------------------------- 339.2/339.2 kB 20.6 MB/s eta 0:00:00\n",
      "Downloading pywin32_ctypes-0.2.2-py3-none-any.whl (30 kB)\n",
      "Downloading altgraph-0.17.4-py2.py3-none-any.whl (21 kB)\n",
      "Installing collected packages: altgraph, pywin32-ctypes, pyinstaller-hooks-contrib, pefile, pyinstaller\n",
      "  Attempting uninstall: pywin32-ctypes\n",
      "    Found existing installation: pywin32-ctypes 0.2.0\n",
      "    Uninstalling pywin32-ctypes-0.2.0:\n",
      "      Successfully uninstalled pywin32-ctypes-0.2.0\n",
      "Successfully installed altgraph-0.17.4 pefile-2023.2.7 pyinstaller-6.7.0 pyinstaller-hooks-contrib-2024.6 pywin32-ctypes-0.2.2\n",
      "\n"
     ]
    }
   ],
   "source": [
    "pip install pyinstaller"
   ]
  },
  {
   "cell_type": "code",
   "execution_count": null,
   "id": "f75767f1-ceb5-4eed-88c3-ea9299e5588e",
   "metadata": {},
   "outputs": [],
   "source": [
    "pyinstaller realtime"
   ]
  }
 ],
 "metadata": {
  "kernelspec": {
   "display_name": "Python 3 (ipykernel)",
   "language": "python",
   "name": "python3"
  },
  "language_info": {
   "codemirror_mode": {
    "name": "ipython",
    "version": 3
   },
   "file_extension": ".py",
   "mimetype": "text/x-python",
   "name": "python",
   "nbconvert_exporter": "python",
   "pygments_lexer": "ipython3",
   "version": "3.11.7"
  }
 },
 "nbformat": 4,
 "nbformat_minor": 5
}
